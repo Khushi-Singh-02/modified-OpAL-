{
 "cells": [
  {
   "cell_type": "markdown",
   "metadata": {},
   "source": [
    "Import modules"
   ]
  },
  {
   "cell_type": "code",
   "execution_count": 1,
   "metadata": {},
   "outputs": [],
   "source": [
    "import numpy as np\n",
    "import scipy.stats as stats\n",
    "import matplotlib.pyplot as plt\n",
    "import random\n",
    "import importlib\n",
    "from sklearn import metrics\n",
    "import pickle\n",
    "import Yifeng_task\n",
    "import learning_dash\n",
    "import opal_dash\n",
    "import pandas as pd\n",
    "\n",
    "import itertools\n",
    "\n",
    "%matplotlib inline\n"
   ]
  },
  {
   "cell_type": "markdown",
   "metadata": {},
   "source": [
    "Initialize task"
   ]
  },
  {
   "cell_type": "code",
   "execution_count": 2,
   "metadata": {},
   "outputs": [],
   "source": [
    "dynaPRL = Yifeng_task.DynaPRL(minblock_len=25, maxblock_len=40, block_rand=0.1, n_trials=1000, p_high=[0.45, 0.6, 0.8, 0.8], p_low=[0.45, 0.3, 0.1, 0.2], reward_manipulate=0)"
   ]
  },
  {
   "cell_type": "markdown",
   "metadata": {},
   "source": [
    "Set up parameters"
   ]
  },
  {
   "cell_type": "code",
   "execution_count": 7,
   "metadata": {},
   "outputs": [],
   "source": [
    "\n",
    "#variable parameters\n",
    "\n",
    "alpha_a_Go_values=np.arange(0.1, 1.1, 0.2)\n",
    "alpha_a_NoGo_values=np.arange(0.1, 1.1, 0.2)\n",
    "alpha_c_values = [0.01, 0.05, 0.1]\n",
    "beta_GO_values = [1, 1.5, 2, 2.5, 3]\n",
    "beta_NOGO_values = [1, 1.5, 2, 2.5, 3]\n",
    "\n",
    "num_var_parameters=[alpha_a_Go_values, alpha_a_NoGo_values, alpha_c_values, beta_GO_values, beta_NOGO_values]\n",
    "params_combos=list(itertools.product(*num_var_parameters))\n",
    "\n",
    "# w=input('Save warmup trials? Enter: Y/N')\n",
    "\n",
    "# if w=='Y':\n",
    "#     save_warmup=True\n",
    "# elif w=='N':\n",
    "#     save_warmup=False\n",
    "# else:\n",
    "#     print('Please enter Y or N.')\n",
    "#     save_warmup=False\n",
    "\n",
    "save_warmup = False\n"
   ]
  },
  {
   "cell_type": "code",
   "execution_count": 8,
   "metadata": {},
   "outputs": [
    {
     "name": "stderr",
     "output_type": "stream",
     "text": [
      "Processing Simulations: 100%|██████████| 1875/1875 [11:01<00:00,  2.83it/s]\n"
     ]
    }
   ],
   "source": [
    "import concurrent.futures\n",
    "from simu_utils import gridsimu_wrapper  # Import the wrapper function\n",
    "from tqdm import tqdm\n",
    "\n",
    "# Prepare arguments for the wrapper\n",
    "args_list = [(params, dynaPRL, save_warmup) for params in params_combos]\n",
    "\n",
    "# Function to handle the progress bar\n",
    "def tqdm_map(func, iterable, **kwargs):\n",
    "    with concurrent.futures.ProcessPoolExecutor() as executor:\n",
    "        futures = [executor.submit(func, arg) for arg in iterable]\n",
    "        results = []\n",
    "        for f in tqdm(concurrent.futures.as_completed(futures), total=len(futures), **kwargs):\n",
    "            results.append(f.result())\n",
    "        return results\n",
    "    \n",
    "# Execute in parallel\n",
    "if __name__ == '__main__':\n",
    "    # Execute in parallel\n",
    "    # with concurrent.futures.ProcessPoolExecutor() as executor:\n",
    "    #     results = list(executor.map(gridsimu_wrapper, args_list))\n",
    "\n",
    "    results = tqdm_map(gridsimu_wrapper, args_list, desc=\"Processing Simulations\")\n",
    "\n",
    "    # Concatenate results into a single DataFrame\n",
    "    GridSimu_Opal_dynaPRL_all = pd.DataFrame()\n",
    "    for data in results:\n",
    "        GridSimu_Opal_dynaPRL_all = pd.concat([GridSimu_Opal_dynaPRL_all, data], ignore_index=True)"
   ]
  },
  {
   "cell_type": "code",
   "execution_count": 9,
   "metadata": {},
   "outputs": [],
   "source": [
    "GridSimu_Opal_dynaPRL_all.to_csv('GridSimu_Opal_dynaPRL_all_1k1s_6b.csv', index=False)"
   ]
  },
  {
   "cell_type": "code",
   "execution_count": 10,
   "metadata": {},
   "outputs": [
    {
     "name": "stdout",
     "output_type": "stream",
     "text": [
      "1781250\n"
     ]
    }
   ],
   "source": [
    "print(len(GridSimu_Opal_dynaPRL_all))"
   ]
  }
 ],
 "metadata": {
  "kernelspec": {
   "display_name": "Python 3",
   "language": "python",
   "name": "python3"
  },
  "language_info": {
   "codemirror_mode": {
    "name": "ipython",
    "version": 3
   },
   "file_extension": ".py",
   "mimetype": "text/x-python",
   "name": "python",
   "nbconvert_exporter": "python",
   "pygments_lexer": "ipython3",
   "version": "3.12.2"
  }
 },
 "nbformat": 4,
 "nbformat_minor": 2
}
